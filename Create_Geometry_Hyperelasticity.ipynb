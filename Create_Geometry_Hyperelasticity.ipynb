{
 "cells": [
  {
   "cell_type": "code",
   "execution_count": 1,
   "metadata": {},
   "outputs": [],
   "source": [
    "import numpy as np\n",
    "from igakit.cad import *\n",
    "from igakit.plot import plt\n",
    "from numpy import linspace\n",
    "\n",
    "b = trilinear([[[[0, 0, 0],\n",
    "         [0,0,1]],\n",
    "\n",
    "        [[0,  20, 0],\n",
    "         [0,20,  1]]],\n",
    "\n",
    "\n",
    "       [[[ 60, 0,0],\n",
    "         [ 60, 0,  1]],\n",
    "\n",
    "        [[ 60,  20, 0],\n",
    "         [ 60,  20,  1]]]])\n",
    "\n",
    "b.elevate(0,1)\n",
    "b.elevate(1,1)\n",
    "b.elevate(2,1)\n",
    "to_insert = linspace(0,1,11)[1:-1]\n",
    "\n",
    "\n",
    "b.refine(0,to_insert)\n",
    "b.refine(1,to_insert)\n",
    "#b.refine(2,to_insert)\n",
    "from igakit.io import PetIGA\n",
    "PetIGA().write(\"thin_film_3d.dat\",b)"
   ]
  },
  {
   "cell_type": "code",
   "execution_count": 2,
   "metadata": {},
   "outputs": [],
   "source": [
    "c = bilinear([[[0, 0],\n",
    "         [60,0]],\n",
    "\n",
    "        [[0,  20],\n",
    "         [60,20]]])\n",
    "\n",
    "c.elevate(0,1)\n",
    "c.elevate(1,1)\n",
    "\n",
    "c.refine(0,to_insert)\n",
    "c.refine(1,to_insert)\n",
    "\n",
    "from igakit.io import PetIGA\n",
    "PetIGA().write(\"thin_film_2d.dat\",c)"
   ]
  },
  {
   "cell_type": "code",
   "execution_count": 3,
   "metadata": {},
   "outputs": [],
   "source": [
    "c = bilinear()\n",
    "\n",
    "c.elevate(0,1)\n",
    "c.elevate(1,1)\n",
    "\n",
    "c.refine(0,to_insert)\n",
    "c.refine(1,to_insert)\n",
    "\n",
    "from igakit.io import PetIGA\n",
    "PetIGA().write(\"thin_film_2d.dat\",c)"
   ]
  }
 ],
 "metadata": {
  "kernelspec": {
   "display_name": "Python 3",
   "language": "python",
   "name": "python3"
  },
  "language_info": {
   "codemirror_mode": {
    "name": "ipython",
    "version": 3
   },
   "file_extension": ".py",
   "mimetype": "text/x-python",
   "name": "python",
   "nbconvert_exporter": "python",
   "pygments_lexer": "ipython3",
   "version": "3.8.3"
  }
 },
 "nbformat": 4,
 "nbformat_minor": 4
}
